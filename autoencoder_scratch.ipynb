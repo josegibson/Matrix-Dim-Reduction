{
 "cells": [
  {
   "cell_type": "code",
   "execution_count": 115,
   "metadata": {},
   "outputs": [],
   "source": [
    "import numpy as np\n",
    "vecs = list(map(int, np.random.random(300) * 100))\n",
    "vecs = np.resize(vecs, (100, 3))\n",
    "vecs = np.insert(vecs, 3, np.random.random(100) * 10, axis=1)"
   ]
  },
  {
   "cell_type": "code",
   "execution_count": 116,
   "metadata": {},
   "outputs": [
    {
     "data": {
      "text/plain": [
       "array([[ 6.12e-17,  1.00e+00,  0.00e+00,  0.00e+00],\n",
       "       [-1.00e+00,  6.12e-17,  0.00e+00,  0.00e+00],\n",
       "       [ 0.00e+00,  0.00e+00,  1.00e+00,  0.00e+00],\n",
       "       [ 0.00e+00,  0.00e+00,  0.00e+00,  1.00e+00]])"
      ]
     },
     "execution_count": 116,
     "metadata": {},
     "output_type": "execute_result"
    }
   ],
   "source": [
    "theta = np.pi / 2\n",
    "i = 0\n",
    "j = 1\n",
    "rotational_matrix = np.identity(4)\n",
    "rotational_matrix[i][i] = rotational_matrix[j][j] = np.cos(theta)\n",
    "rotational_matrix[i][j] = np.sin(theta)\n",
    "rotational_matrix[j][i] = -np.sin(theta)\n",
    "rotational_matrix"
   ]
  },
  {
   "cell_type": "code",
   "execution_count": 117,
   "metadata": {},
   "outputs": [
    {
     "data": {
      "text/plain": [
       "array([39, 49, 42,  6])"
      ]
     },
     "execution_count": 117,
     "metadata": {},
     "output_type": "execute_result"
    }
   ],
   "source": [
    "vecs[0]"
   ]
  },
  {
   "cell_type": "code",
   "execution_count": 118,
   "metadata": {},
   "outputs": [
    {
     "data": {
      "text/plain": [
       "array([ 49., -39.,  42.,   6.])"
      ]
     },
     "execution_count": 118,
     "metadata": {},
     "output_type": "execute_result"
    }
   ],
   "source": [
    "np.set_printoptions(precision=2)\n",
    "np.matmul(rotational_matrix, vecs[0])"
   ]
  }
 ],
 "metadata": {
  "interpreter": {
   "hash": "240f8e3349c19af7970b647a4b4d0c5c02340ff861d50da965b0b9001fdf54ae"
  },
  "kernelspec": {
   "display_name": "Python 3.8.12 ('base')",
   "language": "python",
   "name": "python3"
  },
  "language_info": {
   "codemirror_mode": {
    "name": "ipython",
    "version": 3
   },
   "file_extension": ".py",
   "mimetype": "text/x-python",
   "name": "python",
   "nbconvert_exporter": "python",
   "pygments_lexer": "ipython3",
   "version": "3.8.12"
  },
  "orig_nbformat": 4
 },
 "nbformat": 4,
 "nbformat_minor": 2
}
