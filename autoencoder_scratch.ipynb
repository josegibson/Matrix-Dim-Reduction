{
 "cells": [
  {
   "cell_type": "code",
   "execution_count": 17,
   "metadata": {},
   "outputs": [],
   "source": [
    "from IPython.display import clear_output\n",
    "import numpy as np"
   ]
  },
  {
   "cell_type": "code",
   "execution_count": 14,
   "metadata": {},
   "outputs": [],
   "source": [
    "DATA_COUNT = 1000\n",
    "DIM = 4\n",
    "DATA_LIMIT = 1"
   ]
  },
  {
   "cell_type": "markdown",
   "metadata": {},
   "source": [
    "Rotation stuffs"
   ]
  },
  {
   "cell_type": "code",
   "execution_count": 23,
   "metadata": {},
   "outputs": [],
   "source": [
    "def rotate_vec(dim=4, theta=None, i=None, j=None):\n",
    "\n",
    "    if theta is None:\n",
    "        theta = 2 * np.pi * np.random.random()\n",
    "\n",
    "    if i is None:\n",
    "        i = np.random.choice(dim)\n",
    "\n",
    "    if j is None:\n",
    "        j = np.random.choice(dim)\n",
    "        while i == j:\n",
    "            j = np.random.choice(dim)\n",
    "\n",
    "    rotational_matrix = np.identity(dim)\n",
    "    rotational_matrix[i][i] = rotational_matrix[j][j] = np.cos(theta)\n",
    "    rotational_matrix[i][j] = np.sin(theta)\n",
    "    rotational_matrix[j][i] = -np.sin(theta)\n",
    "\n",
    "    return rotational_matrix\n",
    "\n",
    "\n",
    "def random_rot(dim, count=10):\n",
    "    id = np.identity(dim)\n",
    "    for i in range(count):\n",
    "        id = id.dot(rotate_vec(dim=dim))\n",
    "    return id\n"
   ]
  },
  {
   "cell_type": "markdown",
   "metadata": {},
   "source": [
    "Creating data"
   ]
  },
  {
   "cell_type": "code",
   "execution_count": 24,
   "metadata": {},
   "outputs": [],
   "source": [
    "\n",
    "\n",
    "def tensor_diff(a, b):\n",
    "    c = a - b\n",
    "    c = np.squeeze(c)\n",
    "    c_t = np.var(c)\n",
    "    c = np.square(c)\n",
    "    c = np.sqrt(np.average(c))\n",
    "    return np.average(c), c_t, np.exp(- np.average(c)) * 100\n",
    "\n",
    "def dropout_p_matrix(percent,shp, step = True):\n",
    "    dropout_p = np.random.random(shp)\n",
    "    d_l = np.vectorize(lambda x : 1 if x < percent else 0)\n",
    "    if step:\n",
    "        return(d_l(dropout_p))\n",
    "    else:\n",
    "        return dropout_p\n",
    "\n",
    "def hyp(vex, rotational_matrix):\n",
    "    return vex.dot(rotational_matrix)"
   ]
  },
  {
   "cell_type": "code",
   "execution_count": 25,
   "metadata": {},
   "outputs": [],
   "source": [
    "np.set_printoptions(precision=4)\n",
    "np.set_printoptions(suppress=True)"
   ]
  },
  {
   "cell_type": "code",
   "execution_count": 21,
   "metadata": {},
   "outputs": [],
   "source": [
    "\n",
    "def regressutil(weights, training_data, training_label, epochs, testing_data, testing_label,alpha = 0.001, update_interval = 10, retain = 1):\n",
    "    for epoch in range(epochs):\n",
    "        predicted_label = training_data.dot(weights * dropout_p_matrix(retain, weights.shape))\n",
    "        \n",
    "        dW = - (2 * training_data.T.dot(training_label - predicted_label)) / training_data.size\n",
    "        weights -= dW * alpha\n",
    "\n",
    "        if epoch % (epochs // update_interval) == 0:\n",
    "            clear_output()\n",
    "            print(\"Error :\", tensor_diff(testing_data.dot(weights), testing_label))\n",
    "            print(\"Weight\")\n",
    "            print(weights)\n",
    "    return weights\n",
    "\n",
    "        "
   ]
  },
  {
   "cell_type": "code",
   "execution_count": 22,
   "metadata": {},
   "outputs": [],
   "source": [
    "def regress(W, vecs, vecsy, epochs):\n",
    "    vecs = np.array(np.split(vecs, 10))\n",
    "    vecsy = np.array(np.split(vecsy, 10))\n",
    "    for i in range(10):\n",
    "        W = regressutil(W, np.vstack(np.delete(vecs, i, axis=0)), np.vstack(np.delete(vecsy, i, axis=0)), epochs //10, vecs[i], vecsy[i], update_interval = 1, retain = (i/30 + 0.7))\n",
    "\n",
    "    return W"
   ]
  },
  {
   "cell_type": "code",
   "execution_count": 32,
   "metadata": {},
   "outputs": [],
   "source": [
    "W = np.random.random((DIM, DIM))\n",
    "vecs = (np.random.random((DATA_COUNT, DIM)) * 2 * DATA_LIMIT) - DATA_LIMIT\n",
    "r = random_rot(DIM)\n",
    "vecsy = hyp(vecs, r)"
   ]
  },
  {
   "cell_type": "code",
   "execution_count": 33,
   "metadata": {},
   "outputs": [
    {
     "data": {
      "text/plain": [
       "array([[ 0.7787, -0.4367, -0.4383, -0.1038],\n",
       "       [ 0.    ,  0.7084, -0.7058,  0.    ],\n",
       "       [-0.4507, -0.3082, -0.3094, -0.7785],\n",
       "       [ 0.4364,  0.4609,  0.4626, -0.6189]])"
      ]
     },
     "execution_count": 33,
     "metadata": {},
     "output_type": "execute_result"
    }
   ],
   "source": [
    "r"
   ]
  },
  {
   "cell_type": "code",
   "execution_count": null,
   "metadata": {},
   "outputs": [],
   "source": [
    "regress(W, vecs, vecsy, 800000)"
   ]
  },
  {
   "cell_type": "code",
   "execution_count": 34,
   "metadata": {},
   "outputs": [
    {
     "name": "stdout",
     "output_type": "stream",
     "text": [
      "Error : (4.9327606601431634e-06, 2.4284276499430964e-11, 99.99950672515058)\n",
      "Weight\n",
      "[[ 0.7787 -0.4367 -0.4383 -0.1038]\n",
      " [ 0.      0.7084 -0.7058  0.    ]\n",
      " [-0.4507 -0.3082 -0.3094 -0.7785]\n",
      " [ 0.4364  0.4609  0.4627 -0.6189]]\n"
     ]
    },
    {
     "data": {
      "text/plain": [
       "array([[ 0.7787, -0.4367, -0.4383, -0.1038],\n",
       "       [ 0.    ,  0.7084, -0.7058,  0.    ],\n",
       "       [-0.4507, -0.3082, -0.3094, -0.7785],\n",
       "       [ 0.4364,  0.4609,  0.4627, -0.6189]])"
      ]
     },
     "execution_count": 34,
     "metadata": {},
     "output_type": "execute_result"
    }
   ],
   "source": [
    "regressutil(W, vecs, vecsy, 80000, vecs, vecsy, update_interval = 10, retain = 1, alpha= 0.001)"
   ]
  }
 ],
 "metadata": {
  "interpreter": {
   "hash": "240f8e3349c19af7970b647a4b4d0c5c02340ff861d50da965b0b9001fdf54ae"
  },
  "kernelspec": {
   "display_name": "Python 3.8.12 ('base')",
   "language": "python",
   "name": "python3"
  },
  "language_info": {
   "codemirror_mode": {
    "name": "ipython",
    "version": 3
   },
   "file_extension": ".py",
   "mimetype": "text/x-python",
   "name": "python",
   "nbconvert_exporter": "python",
   "pygments_lexer": "ipython3",
   "version": "3.8.12"
  },
  "orig_nbformat": 4
 },
 "nbformat": 4,
 "nbformat_minor": 2
}
