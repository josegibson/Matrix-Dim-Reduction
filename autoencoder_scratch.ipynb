{
 "cells": [
  {
   "cell_type": "code",
   "execution_count": 1,
   "metadata": {},
   "outputs": [],
   "source": [
    "from IPython.display import clear_output\n",
    "import numpy as np"
   ]
  },
  {
   "cell_type": "code",
   "execution_count": 342,
   "metadata": {},
   "outputs": [],
   "source": [
    "DATA_COUNT = 1000\n",
    "A_DIM = 5\n",
    "R_DIM = 1\n",
    "DATA_LIMIT = 10"
   ]
  },
  {
   "cell_type": "markdown",
   "metadata": {},
   "source": [
    "Rotation stuffs"
   ]
  },
  {
   "cell_type": "code",
   "execution_count": 354,
   "metadata": {},
   "outputs": [],
   "source": [
    "# Returns a matrix which could be used to rotate any vector or dimension=dim\n",
    "def rotate_vec(dim=4, theta=None, i=None, j=None):\n",
    "\n",
    "    if theta is None:\n",
    "        theta = 2 * np.pi * np.random.random()\n",
    "\n",
    "    if i is None:\n",
    "        i = np.random.choice(dim)\n",
    "\n",
    "    if j is None:\n",
    "        j = np.random.choice(dim)\n",
    "        while i == j:\n",
    "            j = np.random.choice(dim)\n",
    "\n",
    "    rotational_matrix = np.identity(dim)\n",
    "    rotational_matrix[i][i] = rotational_matrix[j][j] = np.cos(theta)\n",
    "    rotational_matrix[i][j] = np.sin(theta)\n",
    "    rotational_matrix[j][i] = -np.sin(theta)\n",
    "\n",
    "    return rotational_matrix\n",
    "\n",
    "\n",
    "def random_rot(dim, count=10):\n",
    "    id = np.identity(dim)\n",
    "    for i in range(count):\n",
    "        id = id.dot(rotate_vec(dim=dim))\n",
    "    return id\n"
   ]
  },
  {
   "cell_type": "markdown",
   "metadata": {},
   "source": [
    "Creating data"
   ]
  },
  {
   "cell_type": "code",
   "execution_count": 82,
   "metadata": {},
   "outputs": [],
   "source": [
    "\n",
    "\n",
    "def tensor_diff(a, b):\n",
    "    c = a - b\n",
    "    c = np.squeeze(c)\n",
    "    c_t = np.var(c)\n",
    "    c = np.square(c)\n",
    "    c = np.sqrt(np.average(c))\n",
    "    return np.average(c), c_t, np.exp(- np.average(c)) * 100\n",
    "\n",
    "def dropout_p_matrix(percent,shp, step = True):\n",
    "    ch = np.random.random(shp[0])\n",
    "    d_l = np.vectorize(lambda x : 1 if x < percent else 0)\n",
    "    x = d_l(ch)\n",
    "    return np.tile(x, (shp[1], 1)).T\n",
    "\n",
    "def hyp(vex):\n",
    "    return vex"
   ]
  },
  {
   "cell_type": "code",
   "execution_count": 5,
   "metadata": {},
   "outputs": [],
   "source": [
    "np.set_printoptions(precision=4)\n",
    "np.set_printoptions(suppress=True)"
   ]
  },
  {
   "cell_type": "code",
   "execution_count": 164,
   "metadata": {},
   "outputs": [],
   "source": [
    "\n",
    "def regressutil(weights, training_data, training_label, epochs, testing_data, testing_label,alpha = 0.0001, update_interval = 10, retain = 1):\n",
    "\n",
    "    for epoch in range(epochs):        \n",
    "        hidden_layer = training_data.dot(weights[0] * dropout_p_matrix(retain, weights[0].shape))\n",
    "        predicted_label = hidden_layer.dot(weights[1]* dropout_p_matrix(retain, weights[1].shape))\n",
    "        error = training_label - predicted_label\n",
    "        dW0 = - training_data.T.dot(2 * error.dot(weights[1].T)) / training_data.size\n",
    "        dW1 = - hidden_layer.T.dot(2 * error) / training_data.size\n",
    "        weights[0] -= dW0 * alpha\n",
    "        weights[1] -= dW1 * alpha\n",
    "\n",
    "        if epoch % (epochs // update_interval) == 0:\n",
    "            clear_output()\n",
    "            print(\"Error :\", tensor_diff(testing_data.dot(weights[0]).dot(weights[1]), testing_label))\n",
    "            print(\"Weight\")\n",
    "            print(weights)\n",
    "    return weights\n",
    "\n",
    "        "
   ]
  },
  {
   "cell_type": "code",
   "execution_count": 30,
   "metadata": {},
   "outputs": [],
   "source": [
    "def regress(W, vecs, vecsy, epochs, initial_dropout = 0.7):\n",
    "    vecs = np.array(np.split(vecs, 10))\n",
    "    vecsy = np.array(np.split(vecsy, 10))\n",
    "    for i in range(10):\n",
    "        W = regressutil(W, np.vstack(np.delete(vecs, i, axis=0)), np.vstack(np.delete(vecsy, i, axis=0)), epochs //10, vecs[i], vecsy[i], update_interval = 1, retain = initial_dropout)\n",
    "    \n",
    "    return W"
   ]
  },
  {
   "cell_type": "code",
   "execution_count": 343,
   "metadata": {},
   "outputs": [
    {
     "name": "stdout",
     "output_type": "stream",
     "text": [
      "[[-5.1384  0.      0.      0.      0.    ]\n",
      " [-3.39    0.      0.      0.      0.    ]\n",
      " [-9.8789  0.      0.      0.      0.    ]\n",
      " ...\n",
      " [ 7.7516  0.      0.      0.      0.    ]\n",
      " [-4.6443  0.      0.      0.      0.    ]\n",
      " [ 7.354   0.      0.      0.      0.    ]]\n"
     ]
    },
    {
     "data": {
      "text/plain": [
       "array([[ 0.0009,  0.5833, -1.1484, -4.7292,  1.5423],\n",
       "       [ 0.0006,  0.3848, -0.7576, -3.1201,  1.0175],\n",
       "       [ 0.0017,  1.1215, -2.2078, -9.0922,  2.9652],\n",
       "       ...,\n",
       "       [-0.0013, -0.88  ,  1.7324,  7.1344, -2.3267],\n",
       "       [ 0.0008,  0.5272, -1.0379, -4.2744,  1.394 ],\n",
       "       [-0.0012, -0.8348,  1.6435,  6.7684, -2.2074]])"
      ]
     },
     "execution_count": 343,
     "metadata": {},
     "output_type": "execute_result"
    }
   ],
   "source": [
    "vecs = (np.random.random((DATA_COUNT, R_DIM)) * 2 * DATA_LIMIT) - DATA_LIMIT\n",
    "vecs = np.append(vecs, np.zeros((DATA_COUNT, A_DIM - R_DIM)), axis = 1)\n",
    "print(vecs)\n",
    "r = random_rot(A_DIM, count=4)\n",
    "vecs = vecs.dot(r)\n",
    "vecsy = vecs\n",
    "vecs"
   ]
  },
  {
   "cell_type": "code",
   "execution_count": 331,
   "metadata": {},
   "outputs": [
    {
     "data": {
      "text/plain": [
       "array([[ 3.8079, -7.0115, -4.2212,  1.6509,  0.8425],\n",
       "       [-5.0738,  9.5803, -5.6131, -6.4801,  0.7834],\n",
       "       [ 3.2861, -5.0211, -0.1428,  2.9094,  0.1641],\n",
       "       ...,\n",
       "       [-2.4358,  7.6912,  4.6555,  1.0831,  0.4899],\n",
       "       [-0.2038,  4.6031, -1.4049, -0.5252,  0.1852],\n",
       "       [-9.4161,  3.6658,  3.6146, -4.8746,  0.3573]])"
      ]
     },
     "execution_count": 331,
     "metadata": {},
     "output_type": "execute_result"
    }
   ],
   "source": [
    "# With noise\n",
    "vecs = (np.random.random((DATA_COUNT, R_DIM)) * 2 * DATA_LIMIT) - DATA_LIMIT\n",
    "vecs = np.append(vecs, np.random.random((DATA_COUNT, A_DIM - R_DIM)), axis = 1)\n",
    "r = random_rot(A_DIM, count=2)\n",
    "vecs = vecs.dot(r)\n",
    "vecsy = vecs\n",
    "vecs"
   ]
  },
  {
   "cell_type": "code",
   "execution_count": 344,
   "metadata": {},
   "outputs": [
    {
     "name": "stderr",
     "output_type": "stream",
     "text": [
      "C:\\Users\\joseg\\AppData\\Local\\Temp/ipykernel_14656/966831837.py:2: VisibleDeprecationWarning: Creating an ndarray from ragged nested sequences (which is a list-or-tuple of lists-or-tuples-or ndarrays with different lengths or shapes) is deprecated. If you meant to do this, you must specify 'dtype=object' when creating the ndarray.\n",
      "  W = np.array([np.random.random((A_DIM, R_DIM)), np.random.random((R_DIM, A_DIM))])\n"
     ]
    },
    {
     "data": {
      "text/plain": [
       "array([array([[0.1627],\n",
       "              [0.1459],\n",
       "              [0.9503],\n",
       "              [0.9387],\n",
       "              [0.2511]]),\n",
       "       array([[0.3667, 0.6606, 0.1518, 0.8345, 0.8057]])], dtype=object)"
      ]
     },
     "execution_count": 344,
     "metadata": {},
     "output_type": "execute_result"
    }
   ],
   "source": [
    "#W = np.array([np.delete(np.identity(DIM + 1), DIM, 1), np.delete(np.identity(DIM + 1), DIM, 0)])\n",
    "W = np.array([np.random.random((A_DIM, R_DIM)), np.random.random((R_DIM, A_DIM))])\n",
    "W"
   ]
  },
  {
   "cell_type": "code",
   "execution_count": 351,
   "metadata": {},
   "outputs": [
    {
     "name": "stdout",
     "output_type": "stream",
     "text": [
      "Error : (0.544465624921398, 0.2962812095191002, 58.01517191420042)\n",
      "Weight\n",
      "[array([[ 0.1606],\n",
      "        [-1.2342],\n",
      "        [ 3.6671],\n",
      "        [12.1271],\n",
      "        [-3.3978]]) array([[-0.    , -0.0104,  0.0205,  0.0845, -0.0276]])]\n"
     ]
    },
    {
     "data": {
      "text/plain": [
       "array([array([[ 0.1606],\n",
       "              [-1.2345],\n",
       "              [ 3.6678],\n",
       "              [12.1298],\n",
       "              [-3.3987]]),\n",
       "       array([[-0.    , -0.0086,  0.017 ,  0.07  , -0.0228]])],\n",
       "      dtype=object)"
      ]
     },
     "execution_count": 351,
     "metadata": {},
     "output_type": "execute_result"
    }
   ],
   "source": [
    "W = regress(W, vecs, vecsy, 8000, initial_dropout=0.95)\n",
    "W"
   ]
  },
  {
   "cell_type": "code",
   "execution_count": 352,
   "metadata": {},
   "outputs": [
    {
     "name": "stdout",
     "output_type": "stream",
     "text": [
      "(0.00017198727834848114, 2.9579275985618358e-08, 99.98280275106156)\n"
     ]
    },
    {
     "data": {
      "text/plain": [
       "(0.5188906110636123, 0.26203364896044595, 59.51804684751384)"
      ]
     },
     "execution_count": 352,
     "metadata": {},
     "output_type": "execute_result"
    }
   ],
   "source": [
    "v1 = (np.random.random((DATA_COUNT, R_DIM)) * DATA_LIMIT) - DATA_LIMIT\n",
    "v1 = np.append(v1, np.random.random((DATA_COUNT, A_DIM - R_DIM)), axis = 1)\n",
    "v1 = v1.dot(r)\n",
    "print(tensor_diff(vecs.dot(W[0]).dot(W[1]), vecs))\n",
    "tensor_diff(v1.dot(W[0]).dot(W[1]), v1)"
   ]
  },
  {
   "cell_type": "code",
   "execution_count": 319,
   "metadata": {},
   "outputs": [
    {
     "data": {
      "text/plain": [
       "array([[3, 4, 5, 6],\n",
       "       [3, 4, 4, 5],\n",
       "       [4, 4, 5, 2]])"
      ]
     },
     "execution_count": 319,
     "metadata": {},
     "output_type": "execute_result"
    }
   ],
   "source": [
    "l = np.array([[3, 4, 5, 6]])\n",
    "m = np.array([[3, 4, 4, 5], [4, 4, 5, 2]])\n",
    "np.append(l, m, axis=0)"
   ]
  }
 ],
 "metadata": {
  "interpreter": {
   "hash": "240f8e3349c19af7970b647a4b4d0c5c02340ff861d50da965b0b9001fdf54ae"
  },
  "kernelspec": {
   "display_name": "Python 3.8.12 ('base')",
   "language": "python",
   "name": "python3"
  },
  "language_info": {
   "codemirror_mode": {
    "name": "ipython",
    "version": 3
   },
   "file_extension": ".py",
   "mimetype": "text/x-python",
   "name": "python",
   "nbconvert_exporter": "python",
   "pygments_lexer": "ipython3",
   "version": "3.8.12"
  },
  "orig_nbformat": 4
 },
 "nbformat": 4,
 "nbformat_minor": 2
}
