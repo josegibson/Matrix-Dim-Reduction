{
 "cells": [
  {
   "cell_type": "code",
   "execution_count": 3,
   "metadata": {},
   "outputs": [],
   "source": [
    "from IPython.display import clear_output\n",
    "import numpy as np"
   ]
  },
  {
   "cell_type": "markdown",
   "metadata": {},
   "source": [
    "Rotation stuffs"
   ]
  },
  {
   "cell_type": "code",
   "execution_count": 4,
   "metadata": {},
   "outputs": [],
   "source": [
    "vecs = np.array(list((np.random.random(DIM * DATA_COUNT) * 2 * DATA_LIMIT) - DATA_LIMIT))\n",
    "vecs = np.resize(vecs, (DATA_COUNT, DIM))\n",
    "vecs = np.insert(vecs, DIM, np.zeros(DATA_COUNT), axis=1)\n",
    "\n",
    "def rotate_vec(vec, theta=None, i=None, j=None):\n",
    "\n",
    "    dim = vec.size\n",
    "    if theta is None:\n",
    "        theta = 2 * np.pi * np.random.random()\n",
    "\n",
    "    if i is None:\n",
    "        i = np.random.choice(dim)\n",
    "    if j is None:\n",
    "        j = np.random.choice(dim)\n",
    "        while i == j:\n",
    "            j = np.random.choice(dim)\n",
    "    rotational_matrix = np.identity(dim)\n",
    "    rotational_matrix[i][i] = rotational_matrix[j][j] = np.cos(theta)\n",
    "    rotational_matrix[i][j] = np.sin(theta)\n",
    "    rotational_matrix[j][i] = -np.sin(theta)\n",
    "\n",
    "    return np.matmul(rotational_matrix, vec), rotational_matrix\n",
    "\n",
    "\n",
    "tot_rot = np.identity(DIM + 1)\n",
    "for i in range(21):\n",
    "    _, rotvect = rotate_vec(np.zeros(DIM + 1))\n",
    "    tot_rot = np.matmul(rotvect, tot_rot)\n",
    "    vecs = np.array([np.matmul(rotvect, vec) for vec in vecs])\n"
   ]
  },
  {
   "cell_type": "markdown",
   "metadata": {},
   "source": [
    "Creating data"
   ]
  },
  {
   "cell_type": "code",
   "execution_count": 5,
   "metadata": {},
   "outputs": [],
   "source": [
    "DATA_COUNT = 100\n",
    "DIM = 1\n",
    "DATA_LIMIT = 10\n",
    "\n",
    "def tensor_diff(a, b):\n",
    "    c = a - b\n",
    "    c = np.squeeze(c)\n",
    "    c_t = np.var(c)\n",
    "    c = np.square(c)\n",
    "    c = np.sqrt(np.average(c))\n",
    "    return np.average(c), c_t\n",
    "\n",
    "def dropout_p_matrix(percent,shp, step = True):\n",
    "    dropout_p = np.random.random(shp)\n",
    "    d_l = np.vectorize(lambda x : 1 if x < percent else 0)\n",
    "    if step:\n",
    "        return(d_l(dropout_p))\n",
    "    else:\n",
    "        return dropout_p\n",
    "\n",
    "def hyp(vex):\n",
    "    np.random.shuffle(vex.T)\n",
    "    return vex"
   ]
  },
  {
   "cell_type": "markdown",
   "metadata": {},
   "source": [
    "Making the auto-encoder"
   ]
  },
  {
   "cell_type": "code",
   "execution_count": 6,
   "metadata": {},
   "outputs": [],
   "source": [
    "np.set_printoptions(precision=4)\n",
    "np.set_printoptions(suppress=True)"
   ]
  },
  {
   "cell_type": "code",
   "execution_count": 7,
   "metadata": {},
   "outputs": [],
   "source": [
    "\n",
    "def regressutil(weights, training_data, training_label, epochs, testing_data, testing_label,alpha = 0.001, update_interval = 10, retain = 1):\n",
    "    for epoch in range(epochs):\n",
    "        predicted_label = training_data.dot(weights * dropout_p_matrix(retain, weights.shape))\n",
    "        \n",
    "        dW = - (2 * training_data.T.dot(training_label - predicted_label)) / training_data.size\n",
    "        weights -= dW * alpha\n",
    "\n",
    "        if epoch % (epochs // update_interval) == 0:\n",
    "            clear_output()\n",
    "            print(\"Error :\", tensor_diff(testing_data.dot(weights), testing_label))\n",
    "            print(\"Weight\")\n",
    "            print(weights)\n",
    "    return weights\n",
    "\n",
    "        "
   ]
  },
  {
   "cell_type": "code",
   "execution_count": 8,
   "metadata": {},
   "outputs": [],
   "source": [
    "def regress(W, vecs, vecsy, epochs):\n",
    "    vecs = np.array(np.split(vecs, 10))\n",
    "    vecsy = np.array(np.split(vecsy, 10))\n",
    "    for i in range(10):\n",
    "        W = regressutil(W, np.vstack(np.delete(vecs, i, axis=0)), np.vstack(np.delete(vecsy, i, axis=0)), epochs //10, vecs[i], vecsy[i], update_interval = 1, retain = (i/30 + 0.7))\n",
    "\n",
    "    return W"
   ]
  },
  {
   "cell_type": "code",
   "execution_count": 15,
   "metadata": {},
   "outputs": [],
   "source": [
    "W = np.random.random((DIM + 1, DIM + 1))\n",
    "vecs = (np.random.random((DATA_COUNT, (DIM + 1))) * 2 * DATA_LIMIT) - DATA_LIMIT\n",
    "vecsy = hyp(vecs.copy())"
   ]
  },
  {
   "cell_type": "code",
   "execution_count": 10,
   "metadata": {},
   "outputs": [
    {
     "name": "stdout",
     "output_type": "stream",
     "text": [
      "Error : (0.08287495428286819, 0.0067370315037364615)\n",
      "Weight\n",
      "[[-0.0001  1.0178]\n",
      " [ 1.0081 -0.    ]]\n"
     ]
    },
    {
     "data": {
      "text/plain": [
       "array([[0., 1.],\n",
       "       [1., 0.]])"
      ]
     },
     "execution_count": 10,
     "metadata": {},
     "output_type": "execute_result"
    }
   ],
   "source": [
    "regress(W, vecs, vecsy, 800000)"
   ]
  },
  {
   "cell_type": "code",
   "execution_count": 19,
   "metadata": {},
   "outputs": [
    {
     "name": "stdout",
     "output_type": "stream",
     "text": [
      "Error : (1.8478597904844023e-14, 3.413161449083801e-28)\n",
      "Weight\n",
      "[[1. 0.]\n",
      " [0. 1.]]\n"
     ]
    },
    {
     "data": {
      "text/plain": [
       "array([[1., 0.],\n",
       "       [0., 1.]])"
      ]
     },
     "execution_count": 19,
     "metadata": {},
     "output_type": "execute_result"
    }
   ],
   "source": [
    "regressutil(W, vecs, vecsy, 80000, vecs, vecsy, update_interval = 10, retain = 1, alpha= 0.001)"
   ]
  }
 ],
 "metadata": {
  "interpreter": {
   "hash": "240f8e3349c19af7970b647a4b4d0c5c02340ff861d50da965b0b9001fdf54ae"
  },
  "kernelspec": {
   "display_name": "Python 3.8.12 ('base')",
   "language": "python",
   "name": "python3"
  },
  "language_info": {
   "codemirror_mode": {
    "name": "ipython",
    "version": 3
   },
   "file_extension": ".py",
   "mimetype": "text/x-python",
   "name": "python",
   "nbconvert_exporter": "python",
   "pygments_lexer": "ipython3",
   "version": "3.8.12"
  },
  "orig_nbformat": 4
 },
 "nbformat": 4,
 "nbformat_minor": 2
}
