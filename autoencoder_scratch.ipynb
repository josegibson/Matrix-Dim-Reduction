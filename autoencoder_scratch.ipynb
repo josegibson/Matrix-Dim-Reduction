{
 "cells": [
  {
   "cell_type": "code",
   "execution_count": 231,
   "metadata": {},
   "outputs": [],
   "source": [
    "import numpy as np\n",
    "vecs = list(map(int, np.random.random(300) * 100))\n",
    "vecs = np.resize(vecs, (100, 3))\n",
    "vecs = np.insert(vecs, 3, np.random.random(100) * 10, axis=1)"
   ]
  },
  {
   "cell_type": "code",
   "execution_count": 232,
   "metadata": {},
   "outputs": [],
   "source": [
    "def rotate_vec(vec, theta=None, i=None, j=None):\n",
    "\n",
    "    dim = vec.size\n",
    "    if theta is None:\n",
    "        theta = 2 * np.pi * np.random.random()\n",
    "\n",
    "    if i is None:\n",
    "        i = np.random.choice(dim)\n",
    "    if j is None:\n",
    "        j = np.random.choice(dim)\n",
    "        while i == j:\n",
    "            j = np.random.choice(dim)\n",
    "    rotational_matrix = np.identity(dim)\n",
    "    rotational_matrix[i][i] = rotational_matrix[j][j] = np.cos(theta)\n",
    "    rotational_matrix[i][j] = np.sin(theta)\n",
    "    rotational_matrix[j][i] = -np.sin(theta)\n",
    "\n",
    "    return np.matmul(rotational_matrix, vec), rotational_matrix"
   ]
  },
  {
   "cell_type": "code",
   "execution_count": 233,
   "metadata": {},
   "outputs": [],
   "source": [
    "dim = 4\n",
    "theta = np.pi / 2\n",
    "i = 0\n",
    "j = 1"
   ]
  },
  {
   "cell_type": "code",
   "execution_count": 234,
   "metadata": {},
   "outputs": [
    {
     "data": {
      "text/plain": [
       "(array([11.16, 56.9 , 60.  ,  2.  ]),\n",
       " array([[ 0.69, -0.73,  0.  ,  0.  ],\n",
       "        [ 0.73,  0.69,  0.  ,  0.  ],\n",
       "        [ 0.  ,  0.  ,  1.  ,  0.  ],\n",
       "        [ 0.  ,  0.  ,  0.  ,  1.  ]]))"
      ]
     },
     "execution_count": 234,
     "metadata": {},
     "output_type": "execute_result"
    }
   ],
   "source": [
    "np.set_printoptions(precision=2)\n",
    "rotate_vec(vecs[0], theta= 2 * np.pi * np.random.random())"
   ]
  },
  {
   "cell_type": "markdown",
   "metadata": {},
   "source": [
    "Making the auto-encoder"
   ]
  },
  {
   "cell_type": "code",
   "execution_count": 235,
   "metadata": {},
   "outputs": [
    {
     "data": {
      "text/plain": [
       "array([[ 0.21,  0.  , -0.91, -0.36],\n",
       "       [-0.35, -0.93, -0.07, -0.03],\n",
       "       [-0.91,  0.36, -0.18, -0.07],\n",
       "       [ 0.  ,  0.  , -0.37,  0.93]])"
      ]
     },
     "execution_count": 235,
     "metadata": {},
     "output_type": "execute_result"
    }
   ],
   "source": [
    "tot_rot = np.identity(4)\n",
    "for i in range(3):\n",
    "    _, rotvect = rotate_vec(np.zeros(4))\n",
    "    tot_rot = np.matmul(rotvect, tot_rot)\n",
    "    vecs = [np.matmul(rotvect, vec) for vec in vecs]\n",
    "\n",
    "tot_rot\n"
   ]
  },
  {
   "cell_type": "code",
   "execution_count": null,
   "metadata": {},
   "outputs": [],
   "source": []
  }
 ],
 "metadata": {
  "interpreter": {
   "hash": "240f8e3349c19af7970b647a4b4d0c5c02340ff861d50da965b0b9001fdf54ae"
  },
  "kernelspec": {
   "display_name": "Python 3.8.12 ('base')",
   "language": "python",
   "name": "python3"
  },
  "language_info": {
   "codemirror_mode": {
    "name": "ipython",
    "version": 3
   },
   "file_extension": ".py",
   "mimetype": "text/x-python",
   "name": "python",
   "nbconvert_exporter": "python",
   "pygments_lexer": "ipython3",
   "version": "3.8.12"
  },
  "orig_nbformat": 4
 },
 "nbformat": 4,
 "nbformat_minor": 2
}
