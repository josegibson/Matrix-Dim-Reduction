{
 "cells": [
  {
   "cell_type": "code",
   "execution_count": 17,
   "metadata": {},
   "outputs": [],
   "source": [
    "from IPython.display import clear_output\n",
    "import numpy as np"
   ]
  },
  {
   "cell_type": "code",
   "execution_count": 14,
   "metadata": {},
   "outputs": [],
   "source": [
    "DATA_COUNT = 1000\n",
    "DIM = 4\n",
    "DATA_LIMIT = 1"
   ]
  },
  {
   "cell_type": "markdown",
   "metadata": {},
   "source": [
    "Rotation stuffs"
   ]
  },
  {
   "cell_type": "code",
   "execution_count": 23,
   "metadata": {},
   "outputs": [],
   "source": [
    "def rotate_vec(dim=4, theta=None, i=None, j=None):\n",
    "\n",
    "    if theta is None:\n",
    "        theta = 2 * np.pi * np.random.random()\n",
    "\n",
    "    if i is None:\n",
    "        i = np.random.choice(dim)\n",
    "\n",
    "    if j is None:\n",
    "        j = np.random.choice(dim)\n",
    "        while i == j:\n",
    "            j = np.random.choice(dim)\n",
    "\n",
    "    rotational_matrix = np.identity(dim)\n",
    "    rotational_matrix[i][i] = rotational_matrix[j][j] = np.cos(theta)\n",
    "    rotational_matrix[i][j] = np.sin(theta)\n",
    "    rotational_matrix[j][i] = -np.sin(theta)\n",
    "\n",
    "    return rotational_matrix\n",
    "\n",
    "\n",
    "def random_rot(dim, count=10):\n",
    "    id = np.identity(dim)\n",
    "    for i in range(count):\n",
    "        id = id.dot(rotate_vec(dim=dim))\n",
    "    return id\n"
   ]
  },
  {
   "cell_type": "markdown",
   "metadata": {},
   "source": [
    "Creating data"
   ]
  },
  {
   "cell_type": "code",
   "execution_count": 36,
   "metadata": {},
   "outputs": [],
   "source": [
    "\n",
    "\n",
    "def tensor_diff(a, b):\n",
    "    c = a - b\n",
    "    c = np.squeeze(c)\n",
    "    c_t = np.var(c)\n",
    "    c = np.square(c)\n",
    "    c = np.sqrt(np.average(c))\n",
    "    return np.average(c), c_t, np.exp(- np.average(c)) * 100\n",
    "\n",
    "def dropout_p_matrix(percent,shp, step = True):\n",
    "    dropout_p = np.random.random(shp)\n",
    "    d_l = np.vectorize(lambda x : 1 if x < percent else 0)\n",
    "    if step:\n",
    "        return(d_l(dropout_p))\n",
    "    else:\n",
    "        return dropout_p\n",
    "\n",
    "def hyp(vex):\n",
    "    return vex"
   ]
  },
  {
   "cell_type": "code",
   "execution_count": 25,
   "metadata": {},
   "outputs": [],
   "source": [
    "np.set_printoptions(precision=4)\n",
    "np.set_printoptions(suppress=True)"
   ]
  },
  {
   "cell_type": "code",
   "execution_count": 47,
   "metadata": {},
   "outputs": [],
   "source": [
    "\n",
    "def regressutil(weights, training_data, training_label, epochs, testing_data, testing_label,alpha = 0.001, update_interval = 10, retain = 1):\n",
    "    for epoch in range(epochs):\n",
    "        predicted_label = training_data.dot(weights[0] * dropout_p_matrix(retain, weights[0].shape)).dot(weights[1]* dropout_p_matrix(retain, weights[1].shape))\n",
    "        \n",
    "        dW1 = - (2 * training_data.dot(weights[0]).T.dot(training_label - predicted_label)) / training_data.size\n",
    "        dW0 = - (2 * training_data.dot(weights[1]).T.dot(training_label - predicted_label)) / training_data.size\n",
    "        weights[0] -= dW0 * alpha\n",
    "        weights[1] -= dW1 * alpha\n",
    "\n",
    "        if epoch % (epochs // update_interval) == 0:\n",
    "            clear_output()\n",
    "            print(\"Error :\", tensor_diff(testing_data.dot(weights[0]).dot(weights[1]), testing_label))\n",
    "            print(\"Weight\")\n",
    "            print(weights)\n",
    "    return weights\n",
    "\n",
    "        "
   ]
  },
  {
   "cell_type": "code",
   "execution_count": 44,
   "metadata": {},
   "outputs": [],
   "source": [
    "def regress(W, vecs, vecsy, epochs):\n",
    "    vecs = np.array(np.split(vecs, 10))\n",
    "    vecsy = np.array(np.split(vecsy, 10))\n",
    "    for i in range(10):\n",
    "        W = regressutil(W, np.vstack(np.delete(vecs, i, axis=0)), np.vstack(np.delete(vecsy, i, axis=0)), epochs //10, vecs[i], vecsy[i], update_interval = 1, retain = (i/30 + 0.7))\n",
    "\n",
    "    return W"
   ]
  },
  {
   "cell_type": "code",
   "execution_count": 48,
   "metadata": {},
   "outputs": [],
   "source": [
    "W = np.array([np.random.random((DIM, DIM)), np.random.random((DIM, DIM))])\n",
    "vecs = (np.random.random((DATA_COUNT, DIM)) * 2 * DATA_LIMIT) - DATA_LIMIT\n",
    "r = random_rot(DIM)\n",
    "vecsy = hyp(vecs)\n"
   ]
  },
  {
   "cell_type": "code",
   "execution_count": 41,
   "metadata": {},
   "outputs": [
    {
     "data": {
      "text/plain": [
       "array([[ 0.4676, -0.7321, -0.4919,  0.0581],\n",
       "       [ 0.3748, -0.3433,  0.8552, -0.1018],\n",
       "       [-0.106 , -0.0774, -0.102 , -0.9861],\n",
       "       [-0.7935, -0.5832,  0.1277,  0.1179]])"
      ]
     },
     "execution_count": 41,
     "metadata": {},
     "output_type": "execute_result"
    }
   ],
   "source": [
    "r"
   ]
  },
  {
   "cell_type": "code",
   "execution_count": null,
   "metadata": {},
   "outputs": [],
   "source": [
    "regress(W, vecs, vecsy, 800000)"
   ]
  },
  {
   "cell_type": "code",
   "execution_count": 50,
   "metadata": {},
   "outputs": [
    {
     "name": "stdout",
     "output_type": "stream",
     "text": [
      "Error : (0.000239809987958626, 5.7508177311833943e-08, 99.97602187641581)\n",
      "Weight\n",
      "[[[-0.5972 -0.646   0.3821  0.6189]\n",
      "  [ 0.5563  0.4067  0.541   0.0547]\n",
      "  [ 0.9732 -1.035   0.2639  0.7677]\n",
      "  [ 1.0611  1.4822 -0.4655  0.6246]]\n",
      "\n",
      " [[-0.6451  0.2188  0.4989  0.0073]\n",
      "  [ 0.1975  0.3743 -0.46    0.3365]\n",
      "  [ 0.4195  1.3659 -0.1781 -0.3172]\n",
      "  [ 0.9399 -0.2419  0.1112  0.5536]]]\n"
     ]
    },
    {
     "data": {
      "text/plain": [
       "array([[[-0.5974, -0.6462,  0.3821,  0.6186],\n",
       "        [ 0.5563,  0.4066,  0.541 ,  0.0548],\n",
       "        [ 0.9733, -1.035 ,  0.264 ,  0.7678],\n",
       "        [ 1.0612,  1.4824, -0.4656,  0.6248]],\n",
       "\n",
       "       [[-0.6453,  0.2186,  0.4988,  0.0071],\n",
       "        [ 0.1975,  0.3745, -0.46  ,  0.3366],\n",
       "        [ 0.4197,  1.3662, -0.1782, -0.3168],\n",
       "        [ 0.9401, -0.2419,  0.1113,  0.5538]]])"
      ]
     },
     "execution_count": 50,
     "metadata": {},
     "output_type": "execute_result"
    }
   ],
   "source": [
    "W = regressutil(W, vecs, vecsy, 80000, vecs, vecsy, update_interval = 10, retain = 1, alpha= 0.001)\n",
    "W"
   ]
  },
  {
   "cell_type": "code",
   "execution_count": 51,
   "metadata": {},
   "outputs": [
    {
     "data": {
      "text/plain": [
       "array([[ 0.9998, -0.0002, -0.    , -0.0003],\n",
       "       [-0.0001,  0.9997,  0.0001, -0.0003],\n",
       "       [ 0.0001,  0.0001,  1.    ,  0.0001],\n",
       "       [-0.    ,  0.    , -0.0001,  1.    ]])"
      ]
     },
     "execution_count": 51,
     "metadata": {},
     "output_type": "execute_result"
    }
   ],
   "source": [
    "W[0].dot(W[1])"
   ]
  }
 ],
 "metadata": {
  "interpreter": {
   "hash": "240f8e3349c19af7970b647a4b4d0c5c02340ff861d50da965b0b9001fdf54ae"
  },
  "kernelspec": {
   "display_name": "Python 3.8.12 ('base')",
   "language": "python",
   "name": "python3"
  },
  "language_info": {
   "codemirror_mode": {
    "name": "ipython",
    "version": 3
   },
   "file_extension": ".py",
   "mimetype": "text/x-python",
   "name": "python",
   "nbconvert_exporter": "python",
   "pygments_lexer": "ipython3",
   "version": "3.8.12"
  },
  "orig_nbformat": 4
 },
 "nbformat": 4,
 "nbformat_minor": 2
}
