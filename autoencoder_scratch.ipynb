{
 "cells": [
  {
   "cell_type": "code",
   "execution_count": null,
   "metadata": {},
   "outputs": [],
   "source": [
    "from IPython.display import clear_output\n",
    "import numpy as np"
   ]
  },
  {
   "cell_type": "markdown",
   "metadata": {},
   "source": [
    "Rotation stuffs"
   ]
  },
  {
   "cell_type": "code",
   "execution_count": 403,
   "metadata": {},
   "outputs": [],
   "source": [
    "# Returns a matrix which could be used to rotate any vector or dimension=dim\n",
    "def get_rotational_matrix(dim=4, theta=None, axes=None):\n",
    "\n",
    "\n",
    "    if theta is None:\n",
    "        theta = 2 * np.pi * np.random.random()\n",
    "\n",
    "    theta %= np.pi\n",
    "\n",
    "    if axes is None:\n",
    "        axes = np.random.choice(dim, 2, replace=False)\n",
    "\n",
    "    i, j = axes[0], axes[1]\n",
    "\n",
    "    rotational_matrix = np.identity(dim)\n",
    "    rotational_matrix[i][i] = rotational_matrix[j][j] = np.cos(theta)\n",
    "    rotational_matrix[i][j] = np.sin(theta)\n",
    "    rotational_matrix[j][i] = -np.sin(theta)\n",
    "\n",
    "    return rotational_matrix\n",
    "\n",
    "\n",
    "def get_random_rotational_matrix(dim, count=10):\n",
    "    id = np.identity(dim)\n",
    "    for _ in range(count):\n",
    "        id = id.dot(get_rotational_matrix(dim=dim))\n",
    "    return id\n"
   ]
  },
  {
   "cell_type": "markdown",
   "metadata": {},
   "source": [
    "Creating data"
   ]
  },
  {
   "cell_type": "code",
   "execution_count": 599,
   "metadata": {},
   "outputs": [],
   "source": [
    "class Regressor:\n",
    "\n",
    "    def __init__(self, A_DIM, R_DIM):\n",
    "        self.A_DIM = A_DIM\n",
    "        self.R_DIM = R_DIM\n",
    "        self.W = np.array([np.random.random(\n",
    "            (self.A_DIM, self.R_DIM)), np.random.random((self.R_DIM, self.A_DIM))])\n",
    "\n",
    "    def validate(self, a, b):\n",
    "        self.variance, self.max_error, self.accuracy = self.metrics = self.compare_vector(\n",
    "            a, b)\n",
    "\n",
    "    def compare_vector(self, a, b):\n",
    "        c = a - b\n",
    "        c = np.squeeze(c)\n",
    "        v = np.var(c)\n",
    "        m = np.max(c)\n",
    "        a = np.exp(- v / m) * 100\n",
    "        return v, m, a\n",
    "\n",
    "    def dropout_matrix(self, percent, shape):\n",
    "        x = np.random.choice(2, shape, p=[1 - percent, percent])\n",
    "        return x\n",
    "\n",
    "    def fitUtil(self, training_data, training_label, alpha=0.0001, retain=1):\n",
    "\n",
    "        hidden_layer = (training_data * self.dropout_matrix(retain,\n",
    "                        training_data.shape[1])).dot(self.W[0])\n",
    "        predicted_label = (\n",
    "            hidden_layer * self.dropout_matrix(retain, hidden_layer.shape[1])).dot(self.W[1])\n",
    "\n",
    "        error = training_label - predicted_label\n",
    "\n",
    "        dW0 = - \\\n",
    "            training_data.T.dot(\n",
    "                2 * error.dot(self.W[1].T)) / training_data.size\n",
    "        dW1 = - hidden_layer.T.dot(2 * error) / training_data.size\n",
    "\n",
    "        self.W[0] -= dW0 * alpha\n",
    "        self.W[1] -= dW1 * alpha\n",
    "\n",
    "    # Applies cross validation\n",
    "    def fit(self, vecs, vecsy, epochs, **kwargs):\n",
    "\n",
    "        vecs = np.array(np.split(vecs, 10))\n",
    "        vecsy = np.array(np.split(vecsy, 10))\n",
    "\n",
    "        for i in range(10):\n",
    "\n",
    "            c_v_training_data, c_v_training_label = np.vstack(\n",
    "                np.delete(vecs, i, axis=0)), np.vstack(np.delete(vecsy, i, axis=0))\n",
    "            c_v_testing_data, c_v_testing_label = vecs[i], vecsy[i]\n",
    "\n",
    "            for epoch in range(epochs // 10):\n",
    "                self.fitUtil(c_v_training_data, c_v_training_label, **kwargs)\n",
    "\n",
    "            clear_output()\n",
    "            self.validate(self.predict(c_v_testing_data), c_v_testing_label)\n",
    "            print(\"Metrics\", i, \":\", self.metrics)\n",
    "\n",
    "    def predict(self, data):\n",
    "        return data.dot(self.W[0]).dot(self.W[1])\n",
    "\n",
    "    def __str__(self):\n",
    "        return '\\n'.join([\"Error variance \" + str(self.error_varience),\n",
    "                          \"Error amplitude \" + str(self.max_error),\n",
    "                          \"Accuracy \" + str(self.accuracy),\n",
    "                          \"Weights\" + str(self.W)])\n",
    "\n",
    "    def __repr__(self):\n",
    "        return '\\n'.join([\"Error variance \" + str(self.error_varience),\n",
    "                          \"Error amplitude \" + str(self.max_error),\n",
    "                          \"Accuracy \" + str(self.accuracy),\n",
    "                          \"Weights\" + str(self.W)])\n"
   ]
  },
  {
   "cell_type": "code",
   "execution_count": null,
   "metadata": {},
   "outputs": [],
   "source": [
    "np.set_printoptions(precision=4)\n",
    "np.set_printoptions(suppress=True)"
   ]
  },
  {
   "cell_type": "code",
   "execution_count": 737,
   "metadata": {},
   "outputs": [],
   "source": [
    "def data_gen(A_DIM, R_DIM, NOISE_AIMPLITUDE, DATA_COUNT, rotation_count = 0, noise = False):\n",
    "    vecs = (np.random.random((DATA_COUNT, R_DIM)) * 2 * NOISE_AIMPLITUDE) - NOISE_AIMPLITUDE\n",
    "    if noise:\n",
    "        vecs = np.append(vecs, np.random.random((DATA_COUNT, A_DIM - R_DIM)), axis = 1)\n",
    "    else:\n",
    "        vecs = np.append(vecs, np.zeros((DATA_COUNT, A_DIM - R_DIM)), axis = 1)\n",
    "    r = get_random_rotational_matrix(A_DIM, count=rotation_count)\n",
    "    vecs = vecs.dot(r)\n",
    "    return vecs"
   ]
  },
  {
   "cell_type": "code",
   "execution_count": 738,
   "metadata": {},
   "outputs": [
    {
     "name": "stderr",
     "output_type": "stream",
     "text": [
      "C:\\Users\\joseg\\AppData\\Local\\Temp/ipykernel_14656/2225721749.py:6: VisibleDeprecationWarning: Creating an ndarray from ragged nested sequences (which is a list-or-tuple of lists-or-tuples-or ndarrays with different lengths or shapes) is deprecated. If you meant to do this, you must specify 'dtype=object' when creating the ndarray.\n",
      "  self.W = np.array([np.random.random(\n"
     ]
    }
   ],
   "source": [
    "regressor = Regressor(7, 5)"
   ]
  },
  {
   "cell_type": "code",
   "execution_count": 730,
   "metadata": {},
   "outputs": [],
   "source": [
    "vecs = data_gen(7, 5, 1, 1000, 1)"
   ]
  },
  {
   "cell_type": "code",
   "execution_count": 733,
   "metadata": {},
   "outputs": [
    {
     "name": "stdout",
     "output_type": "stream",
     "text": [
      "Metrics 9 : (0.019410256848580477, 0.34164478280950883, 94.47696414991488)\n"
     ]
    },
    {
     "data": {
      "text/plain": [
       "(0.07218623074399796, 0.8002576881671354, 91.37450063985838)"
      ]
     },
     "execution_count": 733,
     "metadata": {},
     "output_type": "execute_result"
    }
   ],
   "source": [
    "regressor.fit(vecs, vecs, 80000, retain=0.8, alpha = 0.001)\n",
    "v1 = data_gen(7, 5, 1, 3000, 1)\n",
    "regressor.compare_vector(regressor.predict(v1), v1)"
   ]
  },
  {
   "cell_type": "code",
   "execution_count": 734,
   "metadata": {},
   "outputs": [
    {
     "data": {
      "text/plain": [
       "(0.10884497463688794, 1.5039745821668062, 93.0185219444801)"
      ]
     },
     "execution_count": 734,
     "metadata": {},
     "output_type": "execute_result"
    }
   ],
   "source": [
    "v1 = data_gen(7, 5, 1, 3000, 112)\n",
    "regressor.compare_vector(regressor.predict(v1), v1)"
   ]
  }
 ],
 "metadata": {
  "interpreter": {
   "hash": "240f8e3349c19af7970b647a4b4d0c5c02340ff861d50da965b0b9001fdf54ae"
  },
  "kernelspec": {
   "display_name": "Python 3.8.12 ('base')",
   "language": "python",
   "name": "python3"
  },
  "language_info": {
   "codemirror_mode": {
    "name": "ipython",
    "version": 3
   },
   "file_extension": ".py",
   "mimetype": "text/x-python",
   "name": "python",
   "nbconvert_exporter": "python",
   "pygments_lexer": "ipython3",
   "version": "3.8.12"
  },
  "orig_nbformat": 4
 },
 "nbformat": 4,
 "nbformat_minor": 2
}
