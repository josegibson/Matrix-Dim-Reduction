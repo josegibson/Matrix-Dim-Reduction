{
 "cells": [
  {
   "cell_type": "code",
   "execution_count": 1,
   "metadata": {},
   "outputs": [],
   "source": [
    "from IPython.display import clear_output\n",
    "import numpy as np"
   ]
  },
  {
   "cell_type": "code",
   "execution_count": 40,
   "metadata": {},
   "outputs": [],
   "source": [
    "DATA_COUNT = 1000\n",
    "DIM = 3\n",
    "DATA_LIMIT = 10"
   ]
  },
  {
   "cell_type": "markdown",
   "metadata": {},
   "source": [
    "Rotation stuffs"
   ]
  },
  {
   "cell_type": "code",
   "execution_count": 3,
   "metadata": {},
   "outputs": [],
   "source": [
    "def rotate_vec(dim=4, theta=None, i=None, j=None):\n",
    "\n",
    "    if theta is None:\n",
    "        theta = 2 * np.pi * np.random.random()\n",
    "\n",
    "    if i is None:\n",
    "        i = np.random.choice(dim)\n",
    "\n",
    "    if j is None:\n",
    "        j = np.random.choice(dim)\n",
    "        while i == j:\n",
    "            j = np.random.choice(dim)\n",
    "\n",
    "    rotational_matrix = np.identity(dim)\n",
    "    rotational_matrix[i][i] = rotational_matrix[j][j] = np.cos(theta)\n",
    "    rotational_matrix[i][j] = np.sin(theta)\n",
    "    rotational_matrix[j][i] = -np.sin(theta)\n",
    "\n",
    "    return rotational_matrix\n",
    "\n",
    "\n",
    "def random_rot(dim, count=10):\n",
    "    id = np.identity(dim)\n",
    "    for i in range(count):\n",
    "        id = id.dot(rotate_vec(dim=dim))\n",
    "    return id\n"
   ]
  },
  {
   "cell_type": "markdown",
   "metadata": {},
   "source": [
    "Creating data"
   ]
  },
  {
   "cell_type": "code",
   "execution_count": 82,
   "metadata": {},
   "outputs": [],
   "source": [
    "\n",
    "\n",
    "def tensor_diff(a, b):\n",
    "    c = a - b\n",
    "    c = np.squeeze(c)\n",
    "    c_t = np.var(c)\n",
    "    c = np.square(c)\n",
    "    c = np.sqrt(np.average(c))\n",
    "    return np.average(c), c_t, np.exp(- np.average(c)) * 100\n",
    "\n",
    "def dropout_p_matrix(percent,shp, step = True):\n",
    "    ch = np.random.random(shp[0])\n",
    "    d_l = np.vectorize(lambda x : 1 if x < percent else 0)\n",
    "    x = d_l(ch)\n",
    "    return np.tile(x, (shp[1], 1)).T\n",
    "\n",
    "def hyp(vex):\n",
    "    return vex"
   ]
  },
  {
   "cell_type": "code",
   "execution_count": 5,
   "metadata": {},
   "outputs": [],
   "source": [
    "np.set_printoptions(precision=4)\n",
    "np.set_printoptions(suppress=True)"
   ]
  },
  {
   "cell_type": "code",
   "execution_count": 6,
   "metadata": {},
   "outputs": [],
   "source": [
    "\n",
    "def regressutil(weights, training_data, training_label, epochs, testing_data, testing_label,alpha = 0.001, update_interval = 10, retain = 1):\n",
    "\n",
    "    for epoch in range(epochs):        \n",
    "        hidden_layer = training_data.dot(weights[0] * dropout_p_matrix(retain, weights[0].shape))\n",
    "        predicted_label = hidden_layer.dot(weights[1]* dropout_p_matrix(retain, weights[1].shape))\n",
    "        error = training_label - predicted_label\n",
    "        dW0 = - training_data.T.dot(2 * error.dot(weights[1].T)) / training_data.size\n",
    "        dW1 = - hidden_layer.T.dot(2 * error) / training_data.size\n",
    "        weights[0] -= dW0 * alpha\n",
    "        weights[1] -= dW1 * alpha\n",
    "\n",
    "        if epoch % (epochs // update_interval) == 0:\n",
    "            clear_output()\n",
    "            print(\"Error :\", tensor_diff(testing_data.dot(weights[0]).dot(weights[1]), testing_label))\n",
    "            print(\"Weight\")\n",
    "            print(weights)\n",
    "    return weights\n",
    "\n",
    "        "
   ]
  },
  {
   "cell_type": "code",
   "execution_count": 30,
   "metadata": {},
   "outputs": [],
   "source": [
    "def regress(W, vecs, vecsy, epochs, initial_dropout = 0.7):\n",
    "    vecs = np.array(np.split(vecs, 10))\n",
    "    vecsy = np.array(np.split(vecsy, 10))\n",
    "    for i in range(10):\n",
    "        W = regressutil(W, np.vstack(np.delete(vecs, i, axis=0)), np.vstack(np.delete(vecsy, i, axis=0)), epochs //10, vecs[i], vecsy[i], update_interval = 1, retain = initial_dropout)\n",
    "    \n",
    "    return W"
   ]
  },
  {
   "cell_type": "code",
   "execution_count": 97,
   "metadata": {},
   "outputs": [
    {
     "name": "stdout",
     "output_type": "stream",
     "text": [
      "[[-3.2198 -9.5895  6.9631  0.    ]\n",
      " [ 8.3814  8.6646 -9.1993  0.    ]\n",
      " [-6.356  -1.8111 -6.5993  0.    ]\n",
      " ...\n",
      " [-8.339   1.6638  9.6059  0.    ]\n",
      " [-3.0417 -4.5368 -5.4165  0.    ]\n",
      " [ 9.7146 -8.5866  2.6064  0.    ]]\n"
     ]
    }
   ],
   "source": [
    "W = np.array([np.random.random((DIM + 1, DIM + 1)), np.random.random((DIM + 1, DIM + 1))])\n",
    "vecs = (np.random.random((DATA_COUNT, DIM)) * 2 * DATA_LIMIT) - DATA_LIMIT\n",
    "vecs = np.vstack((vecs.T, np.zeros(DATA_COUNT))).T\n",
    "print(vecs)\n",
    "r = random_rot(DIM + 1, count=0)\n",
    "vecs = vecs.dot(r)\n",
    "vecsy = vecs\n"
   ]
  },
  {
   "cell_type": "code",
   "execution_count": null,
   "metadata": {},
   "outputs": [],
   "source": [
    "W = regressutil(W, vecs, vecsy, 80000, vecs, vecsy, update_interval = 10, retain = 1, alpha= 0.001)\n",
    "W"
   ]
  },
  {
   "cell_type": "code",
   "execution_count": 100,
   "metadata": {},
   "outputs": [
    {
     "name": "stdout",
     "output_type": "stream",
     "text": [
      "(7.285579595611618, 53.07672610291935, 0.06853508948451276)\n"
     ]
    },
    {
     "data": {
      "text/plain": [
       "(6.1406616769200815, 37.577431603571284, 0.2153498226701214)"
      ]
     },
     "execution_count": 100,
     "metadata": {},
     "output_type": "execute_result"
    }
   ],
   "source": [
    "v1 = (np.random.random((DATA_COUNT, DIM)) * 2 * DATA_LIMIT) - DATA_LIMIT\n",
    "v1 = np.vstack((v1.T, np.zeros(DATA_COUNT))).T\n",
    "v2 = v1.dot(random_rot(DIM + 1))\n",
    "print(tensor_diff(vecs.dot(W[0]).dot(W[1]), vecs))\n",
    "tensor_diff(v2.dot(W[0]).dot(W[1]), v2)"
   ]
  },
  {
   "cell_type": "code",
   "execution_count": 99,
   "metadata": {},
   "outputs": [
    {
     "name": "stdout",
     "output_type": "stream",
     "text": [
      "Error : (3.388175163332776, 11.46545907447357, 3.3770245888771333)\n",
      "Weight\n",
      "[[[-2.9276 -3.4503  0.5088  7.4771]\n",
      "  [-1.1245  4.9676 -6.8     1.9254]\n",
      "  [ 6.865  -4.2611 -3.7866  0.8312]\n",
      "  [ 0.8531  0.0445  0.6424  0.7249]]\n",
      "\n",
      " [[-0.0765 -0.0509  0.0873  0.0052]\n",
      "  [-0.0903  0.0575 -0.0464  0.0047]\n",
      "  [ 0.0039 -0.0844 -0.0515  0.0052]\n",
      "  [ 0.2051  0.0746  0.0041  0.0075]]]\n"
     ]
    },
    {
     "data": {
      "text/plain": [
       "array([[[-2.9192, -3.4938,  0.5585,  7.465 ],\n",
       "        [-1.0444,  5.1003, -6.9969,  1.866 ],\n",
       "        [ 6.9518, -4.2963, -3.913 ,  0.8973],\n",
       "        [ 0.8531,  0.0445,  0.6424,  0.7249]],\n",
       "\n",
       "       [[-0.1266,  0.0283,  0.1913,  0.0046],\n",
       "        [-0.0377,  0.0976, -0.0797,  0.0004],\n",
       "        [-0.0021, -0.2601, -0.1574,  0.0128],\n",
       "        [ 0.2055,  0.1042,  0.026 ,  0.0055]]])"
      ]
     },
     "execution_count": 99,
     "metadata": {},
     "output_type": "execute_result"
    }
   ],
   "source": [
    "W = regress(W, vecs, vecsy, 800000, initial_dropout=0.8)\n",
    "W"
   ]
  }
 ],
 "metadata": {
  "interpreter": {
   "hash": "240f8e3349c19af7970b647a4b4d0c5c02340ff861d50da965b0b9001fdf54ae"
  },
  "kernelspec": {
   "display_name": "Python 3.8.12 ('base')",
   "language": "python",
   "name": "python3"
  },
  "language_info": {
   "codemirror_mode": {
    "name": "ipython",
    "version": 3
   },
   "file_extension": ".py",
   "mimetype": "text/x-python",
   "name": "python",
   "nbconvert_exporter": "python",
   "pygments_lexer": "ipython3",
   "version": "3.8.12"
  },
  "orig_nbformat": 4
 },
 "nbformat": 4,
 "nbformat_minor": 2
}
