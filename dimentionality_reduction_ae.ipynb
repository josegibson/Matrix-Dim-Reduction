{
 "cells": [
  {
   "cell_type": "code",
   "execution_count": null,
   "metadata": {},
   "outputs": [],
   "source": [
    "from IPython.display import clear_output\n",
    "import numpy as np"
   ]
  },
  {
   "cell_type": "markdown",
   "metadata": {},
   "source": [
    "Regressor class"
   ]
  },
  {
   "cell_type": "code",
   "execution_count": 599,
   "metadata": {},
   "outputs": [],
   "source": [
    "class Regressor:\n",
    "\n",
    "    def __init__(self, A_DIM, R_DIM):\n",
    "        self.A_DIM = A_DIM\n",
    "        self.R_DIM = R_DIM\n",
    "        self.W = np.array([np.random.random(\n",
    "            (self.A_DIM, self.R_DIM)), np.random.random((self.R_DIM, self.A_DIM))])\n",
    "\n",
    "    def validate(self, a, b):\n",
    "        self.variance, self.max_error, self.accuracy = self.metrics = self.compare_vector(\n",
    "            a, b)\n",
    "\n",
    "    def compare_vector(self, a, b):\n",
    "        c = a - b\n",
    "        c = np.squeeze(c)\n",
    "        v = np.var(c)\n",
    "        m = np.max(c)\n",
    "        a = np.exp(- v / m) * 100\n",
    "        return v, m, a\n",
    "\n",
    "    def dropout_matrix(self, percent, shape):\n",
    "        x = np.random.choice(2, shape, p=[1 - percent, percent])\n",
    "        return x\n",
    "\n",
    "    def fitUtil(self, training_data, training_label, alpha=0.0001, retain=1):\n",
    "\n",
    "        hidden_layer = (training_data * self.dropout_matrix(retain,\n",
    "                        training_data.shape[1])).dot(self.W[0])\n",
    "        predicted_label = (\n",
    "            hidden_layer * self.dropout_matrix(retain, hidden_layer.shape[1])).dot(self.W[1])\n",
    "\n",
    "        error = training_label - predicted_label\n",
    "\n",
    "        dW0 = - \\\n",
    "            training_data.T.dot(\n",
    "                2 * error.dot(self.W[1].T)) / training_data.size\n",
    "        dW1 = - hidden_layer.T.dot(2 * error) / training_data.size\n",
    "\n",
    "        self.W[0] -= dW0 * alpha\n",
    "        self.W[1] -= dW1 * alpha\n",
    "\n",
    "    # Applies cross validation\n",
    "    def fit(self, vecs, vecsy, epochs, **kwargs):\n",
    "\n",
    "        vecs = np.array(np.split(vecs, 10))\n",
    "        vecsy = np.array(np.split(vecsy, 10))\n",
    "\n",
    "        for i in range(10):\n",
    "\n",
    "            c_v_training_data, c_v_training_label = np.vstack(\n",
    "                np.delete(vecs, i, axis=0)), np.vstack(np.delete(vecsy, i, axis=0))\n",
    "            c_v_testing_data, c_v_testing_label = vecs[i], vecsy[i]\n",
    "\n",
    "            for epoch in range(epochs // 10):\n",
    "                self.fitUtil(c_v_training_data, c_v_training_label, **kwargs)\n",
    "\n",
    "            clear_output()\n",
    "            self.validate(self.predict(c_v_testing_data), c_v_testing_label)\n",
    "            print(\"Metrics\", i, \":\", self.metrics)\n",
    "\n",
    "    def predict(self, data):\n",
    "        return data.dot(self.W[0]).dot(self.W[1])\n",
    "\n",
    "    def __str__(self):\n",
    "        return '\\n'.join([\"Error variance \" + str(self.error_varience),\n",
    "                          \"Error amplitude \" + str(self.max_error),\n",
    "                          \"Accuracy \" + str(self.accuracy),\n",
    "                          \"Weights\" + str(self.W)])\n",
    "\n",
    "    def __repr__(self):\n",
    "        return '\\n'.join([\"Error variance \" + str(self.error_varience),\n",
    "                          \"Error amplitude \" + str(self.max_error),\n",
    "                          \"Accuracy \" + str(self.accuracy),\n",
    "                          \"Weights\" + str(self.W)])\n"
   ]
  },
  {
   "cell_type": "code",
   "execution_count": null,
   "metadata": {},
   "outputs": [],
   "source": [
    "np.set_printoptions(precision=4)\n",
    "np.set_printoptions(suppress=True)"
   ]
  },
  {
   "cell_type": "code",
   "execution_count": 805,
   "metadata": {},
   "outputs": [],
   "source": [
    "class DataGenerator:\n",
    "    def __init__(self, dim_a, dim_b):\n",
    "        self.actual_dim = dim_a\n",
    "        self.reduced_dim = dim_b\n",
    "\n",
    "\n",
    "    def generate(self, data_amplitude = 1, data_count = 1000, rotation_count = 0, noise = 0):\n",
    "        \n",
    "        vecs = (np.random.random((data_count, self.reduced_dim)) * 2 * data_amplitude) - data_amplitude\n",
    "        \n",
    "        vecs = np.append(vecs, np.random.random((data_count, self.actual_dim - self.reduced_dim)) * noise * data_amplitude, axis = 1)\n",
    "        \n",
    "        for i in range(rotation_count):\n",
    "            vecs = vecs.dot(self.get_rotational_matrix())\n",
    "        return vecs\n",
    "\n",
    "    def get_rotational_matrix(self, theta=None, axes=None):\n",
    "\n",
    "        if theta is None:\n",
    "            theta = 2 * np.pi * np.random.random()\n",
    "\n",
    "        if axes is None:\n",
    "            axes = np.random.choice(self.actual_dim, 2, replace=False)\n",
    "\n",
    "        i, j = axes[0], axes[1]\n",
    "\n",
    "        rotational_matrix = np.identity(self.actual_dim)\n",
    "        rotational_matrix[i][i] = rotational_matrix[j][j] = np.cos(theta)\n",
    "        rotational_matrix[i][j] = np.sin(theta)\n",
    "        rotational_matrix[j][i] = -np.sin(theta)\n",
    "\n",
    "        return rotational_matrix"
   ]
  },
  {
   "cell_type": "code",
   "execution_count": 804,
   "metadata": {},
   "outputs": [
    {
     "name": "stderr",
     "output_type": "stream",
     "text": [
      "C:\\Users\\joseg\\AppData\\Local\\Temp/ipykernel_14656/2225721749.py:6: VisibleDeprecationWarning: Creating an ndarray from ragged nested sequences (which is a list-or-tuple of lists-or-tuples-or ndarrays with different lengths or shapes) is deprecated. If you meant to do this, you must specify 'dtype=object' when creating the ndarray.\n",
      "  self.W = np.array([np.random.random(\n"
     ]
    }
   ],
   "source": [
    "regressor = Regressor(4, 3)\n",
    "datagen = DataGenerator(4, 3)"
   ]
  },
  {
   "cell_type": "code",
   "execution_count": 797,
   "metadata": {},
   "outputs": [],
   "source": [
    "\n",
    "vecs = datagen.generate(1, 1000, 12, noise=1)"
   ]
  },
  {
   "cell_type": "code",
   "execution_count": 799,
   "metadata": {},
   "outputs": [
    {
     "name": "stdout",
     "output_type": "stream",
     "text": [
      "Metrics 9 : (0.09487893248040292, 1.0363848334792447, 91.25175373770882)\n"
     ]
    },
    {
     "data": {
      "text/plain": [
       "(0.07288200195705359, 1.101568508775657, 93.59792010457724)"
      ]
     },
     "execution_count": 799,
     "metadata": {},
     "output_type": "execute_result"
    }
   ],
   "source": [
    "regressor.fit(vecs, vecs, 80000, retain=0.8, alpha = 0.001)\n",
    "v1 = datagen.generate(1, 3000, 12344, noise=0.5)\n",
    "regressor.compare_vector(regressor.predict(v1), v1)"
   ]
  },
  {
   "cell_type": "code",
   "execution_count": 801,
   "metadata": {},
   "outputs": [
    {
     "data": {
      "text/plain": [
       "(0.07335065739029394, 0.7960314953317323, 91.1972519804229)"
      ]
     },
     "execution_count": 801,
     "metadata": {},
     "output_type": "execute_result"
    }
   ],
   "source": [
    "v1 = datagen.generate(1, 3000, 112, noise=0)\n",
    "regressor.compare_vector(regressor.predict(v1), v1)"
   ]
  },
  {
   "cell_type": "code",
   "execution_count": 778,
   "metadata": {},
   "outputs": [
    {
     "data": {
      "text/plain": [
       "array([[ 1.1408,  0.0883, -0.019 ,  0.4926,  0.4058, -0.24  , -0.8264],\n",
       "       [-0.0484,  1.1413,  0.0249, -0.0248, -0.1063,  0.5901, -0.061 ],\n",
       "       [ 0.0137,  0.059 ,  1.2615,  0.0028,  0.038 , -0.1398,  0.0214],\n",
       "       [ 0.0942,  0.0616,  0.0036,  1.0683, -0.11  , -0.1883,  0.3886],\n",
       "       [ 0.1729,  0.0142,  0.0235, -0.3861,  1.0524,  0.0011,  0.6553],\n",
       "       [ 0.1303,  0.3669, -0.0118,  0.0584,  0.2436,  0.1435,  0.117 ],\n",
       "       [-0.1409,  0.018 , -0.0106,  0.3599,  0.2457, -0.052 ,  0.6662]])"
      ]
     },
     "execution_count": 778,
     "metadata": {},
     "output_type": "execute_result"
    }
   ],
   "source": [
    "regressor.W[0].dot(regressor.W[1])"
   ]
  }
 ],
 "metadata": {
  "interpreter": {
   "hash": "240f8e3349c19af7970b647a4b4d0c5c02340ff861d50da965b0b9001fdf54ae"
  },
  "kernelspec": {
   "display_name": "Python 3.8.12 ('base')",
   "language": "python",
   "name": "python3"
  },
  "language_info": {
   "codemirror_mode": {
    "name": "ipython",
    "version": 3
   },
   "file_extension": ".py",
   "mimetype": "text/x-python",
   "name": "python",
   "nbconvert_exporter": "python",
   "pygments_lexer": "ipython3",
   "version": "3.8.12"
  },
  "orig_nbformat": 4
 },
 "nbformat": 4,
 "nbformat_minor": 2
}
