{
 "cells": [
  {
   "cell_type": "code",
   "execution_count": 85,
   "metadata": {},
   "outputs": [],
   "source": [
    "from IPython.display import clear_output\n",
    "import numpy as np"
   ]
  },
  {
   "cell_type": "markdown",
   "metadata": {},
   "source": [
    "Regressor class"
   ]
  },
  {
   "cell_type": "code",
   "execution_count": 349,
   "metadata": {},
   "outputs": [],
   "source": [
    "class Regressor:\n",
    "\n",
    "    def __init__(self, A_DIM, R_DIM):\n",
    "        self.A_DIM = A_DIM\n",
    "        self.R_DIM = R_DIM\n",
    "        self.W = np.array([np.random.random(\n",
    "            (self.A_DIM, self.R_DIM)), np.random.random((self.R_DIM, self.A_DIM))])\n",
    "        self.label_norm = 1\n",
    "\n",
    "    def validate(self, a, b):\n",
    "        self.variance, self.max_error, self.accuracy = self.metrics = self.compare_vector(\n",
    "            a, b)\n",
    "\n",
    "    def compare_vector(self, a, b):\n",
    "        c = a - b\n",
    "        c = np.squeeze(c)\n",
    "        v = np.var(c)\n",
    "        m = np.max(c)\n",
    "        a = np.exp(- v / m) * 100\n",
    "        return v, m, a\n",
    "\n",
    "    def dropout_matrix(self, percent, shape):\n",
    "        x = np.random.choice(2, shape, p=[1 - percent, percent])\n",
    "        return x\n",
    "\n",
    "    def fitUtil(self, training_data, training_label, alpha=0.0001, retain=1):\n",
    "\n",
    "        hidden_layer = (training_data * self.dropout_matrix(retain,\n",
    "                        training_data.shape[1])).dot(self.W[0])\n",
    "        predicted_label = (\n",
    "            hidden_layer * self.dropout_matrix(retain, hidden_layer.shape[1])).dot(self.W[1])\n",
    "\n",
    "        error = training_label - predicted_label\n",
    "\n",
    "        dW0 = - \\\n",
    "            training_data.T.dot(\n",
    "                2 * error.dot(self.W[1].T)) / training_data.size\n",
    "        dW1 = - hidden_layer.T.dot(2 * error) / training_data.size\n",
    "\n",
    "        self.W[0] -= dW0 * alpha\n",
    "        self.W[1] -= dW1 * alpha\n",
    "\n",
    "    # Applies cross validation\n",
    "    def fit(self, vecs, vecsy, epochs, **kwargs):\n",
    "\n",
    "        '''vecs /= np.linalg.norm(vecs)\n",
    "        vecsy /= np.linalg.norm(vecs)'''\n",
    "\n",
    "        vecs = np.array(np.split(vecs, 10))\n",
    "        vecsy = np.array(np.split(vecsy, 10))\n",
    "\n",
    "        for i in range(10):\n",
    "\n",
    "            c_v_training_data, c_v_training_label = np.vstack(\n",
    "                np.delete(vecs, i, axis=0)), np.vstack(np.delete(vecsy, i, axis=0))\n",
    "            c_v_testing_data, c_v_testing_label = vecs[i], vecsy[i]\n",
    "\n",
    "            for epoch in range(epochs // 10):\n",
    "                self.fitUtil(c_v_training_data, c_v_training_label, **kwargs)\n",
    "\n",
    "            clear_output()\n",
    "            self.validate(self.predict(c_v_testing_data), c_v_testing_label)\n",
    "            print(\"Metrics\", i, \":\", self.metrics)\n",
    "\n",
    "    def predict(self, data):\n",
    "        return data.dot(self.W[0]).dot(self.W[1])\n",
    "\n",
    "    def encode(self, data):\n",
    "        return data.dot(self.W[0])\n",
    "\n",
    "    def decode(self, data):\n",
    "        return data.dot(self.W[1])\n",
    "\n",
    "    def __str__(self):\n",
    "        return '\\n'.join([\"Error variance \" + str(self.variance),\n",
    "                          \"Error amplitude \" + str(self.max_error),\n",
    "                          \"Accuracy \" + str(self.accuracy),\n",
    "                          \"Weights\" + str(self.W)])\n",
    "\n",
    "    def __repr__(self):\n",
    "        return '\\n'.join([\"Error variance \" + str(self.variance),\n",
    "                          \"Error amplitude \" + str(self.max_error),\n",
    "                          \"Accuracy \" + str(self.accuracy),\n",
    "                          \"Weights\" + str(self.W)])\n"
   ]
  },
  {
   "cell_type": "code",
   "execution_count": 355,
   "metadata": {},
   "outputs": [],
   "source": [
    "class DataGenerator:\n",
    "    \n",
    "    def __init__(self, dim_a, dim_b, rotation_count = 0):\n",
    "        self.actual_dim = dim_a\n",
    "        self.reduced_dim = dim_b\n",
    "        self.r = np.identity(self.actual_dim)\n",
    "        for i in range(rotation_count):\n",
    "            self.r = self.r.dot(self.set_rotational_matrix())\n",
    "\n",
    "\n",
    "    def generate(self, data_count = 1000, noise = 0):\n",
    "        \n",
    "        vecs = (np.random.random((data_count, self.reduced_dim)) * 2) - 1\n",
    "        vecs = np.append(vecs, np.random.random((data_count, self.actual_dim - self.reduced_dim)) * noise, axis = 1)\n",
    "        vecs = vecs.dot(self.r)\n",
    "        return vecs\n",
    "\n",
    "    def set_rotational_matrix(self):\n",
    "    \n",
    "        theta = 2 * np.pi * np.random.random()\n",
    "        axes = np.random.choice(self.actual_dim, 2, replace=False)\n",
    "\n",
    "        i, j = axes[0], axes[1]\n",
    "\n",
    "        rotational_matrix = np.identity(self.actual_dim)\n",
    "        rotational_matrix[i][i] = rotational_matrix[j][j] = np.cos(theta)\n",
    "        rotational_matrix[i][j] = np.sin(theta)\n",
    "        rotational_matrix[j][i] = -np.sin(theta)\n",
    "\n",
    "        return rotational_matrix"
   ]
  },
  {
   "cell_type": "code",
   "execution_count": 381,
   "metadata": {},
   "outputs": [],
   "source": [
    "np.set_printoptions(suppress=True)\n",
    "np.set_printoptions(precision=4)\n",
    "datagen = DataGenerator(7, 4, rotation_count = 242)"
   ]
  },
  {
   "cell_type": "code",
   "execution_count": 385,
   "metadata": {},
   "outputs": [
    {
     "name": "stdout",
     "output_type": "stream",
     "text": [
      "Metrics 9 : (0.0012908356263618115, 0.08911843017390622, 98.56198987692196)\n"
     ]
    },
    {
     "data": {
      "text/plain": [
       "(6.219967466146553e-07, 0.0024818728658584366, 99.97494155238367)"
      ]
     },
     "execution_count": 385,
     "metadata": {},
     "output_type": "execute_result"
    }
   ],
   "source": [
    "\n",
    "regressor = Regressor(7, 4)\n",
    "\n",
    "vecs = datagen.generate(10000, noise=0.1)\n",
    "regressor.fit(vecs, vecs, 20000, alpha = 1, retain = 1)\n",
    "v1 = datagen.generate(30, noise=0)\n",
    "regressor.compare_vector(regressor.predict(v1), v1)"
   ]
  },
  {
   "cell_type": "code",
   "execution_count": 386,
   "metadata": {},
   "outputs": [
    {
     "data": {
      "text/plain": [
       "(array([[ 0.004 , -0.3477, -0.207 ,  0.9609, -0.8392,  0.1387, -0.0139]]),\n",
       " array([[-0.5392,  0.6071, -0.0591, -0.9951]]),\n",
       " array([[ 0.0025, -0.3468, -0.2084,  0.9609, -0.8393,  0.1383, -0.0139]]))"
      ]
     },
     "execution_count": 386,
     "metadata": {},
     "output_type": "execute_result"
    }
   ],
   "source": [
    "val = datagen.generate(1)\n",
    "e = regressor.encode(val)\n",
    "val, e, regressor.decode(e)"
   ]
  }
 ],
 "metadata": {
  "interpreter": {
   "hash": "240f8e3349c19af7970b647a4b4d0c5c02340ff861d50da965b0b9001fdf54ae"
  },
  "kernelspec": {
   "display_name": "Python 3.8.12 ('base')",
   "language": "python",
   "name": "python3"
  },
  "language_info": {
   "codemirror_mode": {
    "name": "ipython",
    "version": 3
   },
   "file_extension": ".py",
   "mimetype": "text/x-python",
   "name": "python",
   "nbconvert_exporter": "python",
   "pygments_lexer": "ipython3",
   "version": "3.8.12"
  },
  "orig_nbformat": 4
 },
 "nbformat": 4,
 "nbformat_minor": 2
}
